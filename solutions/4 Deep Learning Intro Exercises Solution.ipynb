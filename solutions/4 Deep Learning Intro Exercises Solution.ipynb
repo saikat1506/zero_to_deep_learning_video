{
  "nbformat": 4,
  "nbformat_minor": 0,
  "metadata": {
    "kernelspec": {
      "display_name": "Python 3",
      "language": "python",
      "name": "python3"
    },
    "language_info": {
      "codemirror_mode": {
        "name": "ipython",
        "version": 3
      },
      "file_extension": ".py",
      "mimetype": "text/x-python",
      "name": "python",
      "nbconvert_exporter": "python",
      "pygments_lexer": "ipython3",
      "version": "3.5.3"
    },
    "colab": {
      "name": "4 Deep Learning Intro Exercises Solution.ipynb",
      "provenance": []
    }
  },
  "cells": [
    {
      "cell_type": "markdown",
      "metadata": {
        "id": "A8rjLwYxb_Ql",
        "colab_type": "text"
      },
      "source": [
        "# Deep Learning Intro"
      ]
    },
    {
      "cell_type": "code",
      "metadata": {
        "id": "iMCwPZ5wb_Q1",
        "colab_type": "code",
        "colab": {}
      },
      "source": [
        "%matplotlib inline\n",
        "import matplotlib.pyplot as plt\n",
        "import pandas as pd\n",
        "import numpy as np"
      ],
      "execution_count": 0,
      "outputs": []
    },
    {
      "cell_type": "markdown",
      "metadata": {
        "id": "ZJDcsmw5b_RC",
        "colab_type": "text"
      },
      "source": [
        "## Exercise 1"
      ]
    },
    {
      "cell_type": "markdown",
      "metadata": {
        "collapsed": true,
        "id": "PjdeNPDkb_RF",
        "colab_type": "text"
      },
      "source": [
        "The [Pima Indians dataset](https://archive.ics.uci.edu/ml/datasets/Pima+Indians+Diabetes) is a very famous dataset distributed by UCI and originally collected from the National Institute of Diabetes and Digestive and Kidney Diseases. It contains data from clinical exams for women age 21 and above of Pima indian origins. The objective is to predict based on diagnostic measurements whether a patient has diabetes.\n",
        "\n",
        "It has the following features:\n",
        "\n",
        "- Pregnancies: Number of times pregnant\n",
        "- Glucose: Plasma glucose concentration a 2 hours in an oral glucose tolerance test\n",
        "- BloodPressure: Diastolic blood pressure (mm Hg)\n",
        "- SkinThickness: Triceps skin fold thickness (mm)\n",
        "- Insulin: 2-Hour serum insulin (mu U/ml)\n",
        "- BMI: Body mass index (weight in kg/(height in m)^2)\n",
        "- DiabetesPedigreeFunction: Diabetes pedigree function\n",
        "- Age: Age (years)\n",
        "\n",
        "The last colum is the outcome, and it is a binary variable.\n",
        "\n",
        "In this first exercise we will explore it through the following steps:\n",
        "\n",
        "1. Load the ..data/diabetes.csv dataset, use pandas to explore the range of each feature\n",
        "- For each feature draw a histogram. Bonus points if you draw all the histograms in the same figure.\n",
        "- Explore correlations of features with the outcome column. You can do this in several ways, for example using the `sns.pairplot` we used above or drawing a heatmap of the correlations.\n",
        "- Do features need standardization? If so what stardardization technique will you use? MinMax? Standard?\n",
        "- Prepare your final `X` and `y` variables to be used by a ML model. Make sure you define your target variable well. Will you need dummy columns?"
      ]
    },
    {
      "cell_type": "code",
      "metadata": {
        "id": "Qi7jJbZtb_RH",
        "colab_type": "code",
        "colab": {}
      },
      "source": [
        "df = pd.read_csv('../data/diabetes.csv')\n",
        "df.head()"
      ],
      "execution_count": 0,
      "outputs": []
    },
    {
      "cell_type": "code",
      "metadata": {
        "id": "rPhGRSukb_RN",
        "colab_type": "code",
        "colab": {}
      },
      "source": [
        "_ = df.hist(figsize=(12, 10))"
      ],
      "execution_count": 0,
      "outputs": []
    },
    {
      "cell_type": "code",
      "metadata": {
        "id": "q2tGHukNb_RR",
        "colab_type": "code",
        "colab": {}
      },
      "source": [
        "import seaborn as sns"
      ],
      "execution_count": 0,
      "outputs": []
    },
    {
      "cell_type": "code",
      "metadata": {
        "id": "EdMbbjNUb_RV",
        "colab_type": "code",
        "colab": {}
      },
      "source": [
        "sns.pairplot(df, hue='Outcome')"
      ],
      "execution_count": 0,
      "outputs": []
    },
    {
      "cell_type": "code",
      "metadata": {
        "id": "-rKMXxbkb_Re",
        "colab_type": "code",
        "colab": {}
      },
      "source": [
        "sns.heatmap(df.corr(), annot = True)"
      ],
      "execution_count": 0,
      "outputs": []
    },
    {
      "cell_type": "code",
      "metadata": {
        "id": "eYtwsc39b_Ri",
        "colab_type": "code",
        "colab": {}
      },
      "source": [
        "df.info()"
      ],
      "execution_count": 0,
      "outputs": []
    },
    {
      "cell_type": "code",
      "metadata": {
        "id": "OACnhlVLb_Rn",
        "colab_type": "code",
        "colab": {}
      },
      "source": [
        "df.describe()"
      ],
      "execution_count": 0,
      "outputs": []
    },
    {
      "cell_type": "code",
      "metadata": {
        "id": "okGZDaGPb_Rt",
        "colab_type": "code",
        "colab": {}
      },
      "source": [
        "from sklearn.preprocessing import StandardScaler"
      ],
      "execution_count": 0,
      "outputs": []
    },
    {
      "cell_type": "code",
      "metadata": {
        "id": "O_6BS-4ib_R2",
        "colab_type": "code",
        "colab": {}
      },
      "source": [
        "from keras.utils import to_categorical"
      ],
      "execution_count": 0,
      "outputs": []
    },
    {
      "cell_type": "code",
      "metadata": {
        "id": "tMA8Hx1Gb_R7",
        "colab_type": "code",
        "colab": {}
      },
      "source": [
        "sc = StandardScaler()\n",
        "X = sc.fit_transform(df.drop('Outcome', axis=1))\n",
        "y = df['Outcome'].values\n",
        "y_cat = to_categorical(y)"
      ],
      "execution_count": 0,
      "outputs": []
    },
    {
      "cell_type": "code",
      "metadata": {
        "id": "66vShIUhb_SC",
        "colab_type": "code",
        "colab": {}
      },
      "source": [
        "X.shape"
      ],
      "execution_count": 0,
      "outputs": []
    },
    {
      "cell_type": "code",
      "metadata": {
        "id": "mhoyHYHob_SI",
        "colab_type": "code",
        "colab": {}
      },
      "source": [
        "y_cat.shape"
      ],
      "execution_count": 0,
      "outputs": []
    },
    {
      "cell_type": "markdown",
      "metadata": {
        "id": "oNdIHdhtb_SN",
        "colab_type": "text"
      },
      "source": [
        "## Exercise 2"
      ]
    },
    {
      "cell_type": "markdown",
      "metadata": {
        "collapsed": true,
        "id": "JZHxNbmCb_SP",
        "colab_type": "text"
      },
      "source": [
        "Build a fully connected NN model that predicts diabetes. Follow these steps:\n",
        "\n",
        "1. Split your data in a train/test with a test size of 20% and a `random_state = 22`\n",
        "- define a sequential model with at least one inner layer. You will have to make choices for the following things:\n",
        "    - what is the size of the input?\n",
        "    - how many nodes will you use in each layer?\n",
        "    - what is the size of the output?\n",
        "    - what activation functions will you use in the inner layers?\n",
        "    - what activation function will you use at output?\n",
        "    - what loss function will you use?\n",
        "    - what optimizer will you use?\n",
        "- fit your model on the training set, using a validation_split of 0.1\n",
        "- test your trained model on the test data from the train/test split\n",
        "- check the accuracy score, the confusion matrix and the classification report"
      ]
    },
    {
      "cell_type": "code",
      "metadata": {
        "id": "tIEt5WHOb_SR",
        "colab_type": "code",
        "colab": {}
      },
      "source": [
        "X.shape"
      ],
      "execution_count": 0,
      "outputs": []
    },
    {
      "cell_type": "code",
      "metadata": {
        "id": "Vh4IkzUrb_SX",
        "colab_type": "code",
        "colab": {}
      },
      "source": [
        "from sklearn.model_selection import train_test_split"
      ],
      "execution_count": 0,
      "outputs": []
    },
    {
      "cell_type": "code",
      "metadata": {
        "id": "ITBqVkPMb_Sa",
        "colab_type": "code",
        "colab": {}
      },
      "source": [
        "X_train, X_test, y_train, y_test = train_test_split(X, y_cat,\n",
        "                                                    random_state=22,\n",
        "                                                    test_size=0.2)"
      ],
      "execution_count": 0,
      "outputs": []
    },
    {
      "cell_type": "code",
      "metadata": {
        "id": "7YG4fWUmb_Sj",
        "colab_type": "code",
        "colab": {}
      },
      "source": [
        "from keras.models import Sequential\n",
        "from keras.layers import Dense\n",
        "from keras.optimizers import Adam"
      ],
      "execution_count": 0,
      "outputs": []
    },
    {
      "cell_type": "code",
      "metadata": {
        "id": "3XFy2Fucb_Sn",
        "colab_type": "code",
        "colab": {}
      },
      "source": [
        "model = Sequential()\n",
        "model.add(Dense(32, input_shape=(8,), activation='relu'))\n",
        "model.add(Dense(32, activation='relu'))\n",
        "model.add(Dense(2, activation='softmax'))\n",
        "model.compile(Adam(lr=0.05),\n",
        "              loss='categorical_crossentropy',\n",
        "              metrics=['accuracy'])"
      ],
      "execution_count": 0,
      "outputs": []
    },
    {
      "cell_type": "code",
      "metadata": {
        "id": "AszTAUqHb_Su",
        "colab_type": "code",
        "colab": {}
      },
      "source": [
        "model.summary()"
      ],
      "execution_count": 0,
      "outputs": []
    },
    {
      "cell_type": "code",
      "metadata": {
        "id": "OwfAKoLMb_S7",
        "colab_type": "code",
        "colab": {}
      },
      "source": [
        "32*8 + 32"
      ],
      "execution_count": 0,
      "outputs": []
    },
    {
      "cell_type": "code",
      "metadata": {
        "id": "pEIZbJHRb_TM",
        "colab_type": "code",
        "colab": {}
      },
      "source": [
        "model.fit(X_train, y_train, epochs=20, verbose=2, validation_split=0.1)"
      ],
      "execution_count": 0,
      "outputs": []
    },
    {
      "cell_type": "code",
      "metadata": {
        "id": "gmaDP9Zsb_TR",
        "colab_type": "code",
        "colab": {}
      },
      "source": [
        "y_pred = model.predict(X_test)"
      ],
      "execution_count": 0,
      "outputs": []
    },
    {
      "cell_type": "code",
      "metadata": {
        "id": "gSoIePCEb_TX",
        "colab_type": "code",
        "colab": {}
      },
      "source": [
        "y_test_class = np.argmax(y_test, axis=1)\n",
        "y_pred_class = np.argmax(y_pred, axis=1)"
      ],
      "execution_count": 0,
      "outputs": []
    },
    {
      "cell_type": "code",
      "metadata": {
        "id": "WlFBBpAEb_Th",
        "colab_type": "code",
        "colab": {}
      },
      "source": [
        "from sklearn.metrics import accuracy_score\n",
        "from sklearn.metrics import classification_report\n",
        "from sklearn.metrics import confusion_matrix"
      ],
      "execution_count": 0,
      "outputs": []
    },
    {
      "cell_type": "code",
      "metadata": {
        "id": "X9kgq9uLb_Tr",
        "colab_type": "code",
        "colab": {}
      },
      "source": [
        "pd.Series(y_test_class).value_counts() / len(y_test_class)"
      ],
      "execution_count": 0,
      "outputs": []
    },
    {
      "cell_type": "code",
      "metadata": {
        "id": "zzKM53bxb_T3",
        "colab_type": "code",
        "colab": {}
      },
      "source": [
        "accuracy_score(y_test_class, y_pred_class)"
      ],
      "execution_count": 0,
      "outputs": []
    },
    {
      "cell_type": "code",
      "metadata": {
        "id": "JIBve4T5b_UB",
        "colab_type": "code",
        "colab": {}
      },
      "source": [
        "print(classification_report(y_test_class, y_pred_class))"
      ],
      "execution_count": 0,
      "outputs": []
    },
    {
      "cell_type": "code",
      "metadata": {
        "id": "jJ5AxX_wb_UE",
        "colab_type": "code",
        "colab": {}
      },
      "source": [
        "confusion_matrix(y_test_class, y_pred_class)"
      ],
      "execution_count": 0,
      "outputs": []
    },
    {
      "cell_type": "markdown",
      "metadata": {
        "id": "nZ9NJIm8b_UI",
        "colab_type": "text"
      },
      "source": [
        "## Exercise 3\n",
        "Compare your work with the results presented in [this notebook](https://www.kaggle.com/sheshu/pima-data-visualisation-and-machine-learning). Are your Neural Network results better or worse than the results obtained by traditional Machine Learning techniques?\n",
        "\n",
        "- Try training a Support Vector Machine or a Random Forest model on the exact same train/test split. Is the performance better or worse?\n",
        "- Try restricting your features to only 4 features like in the suggested notebook. How does model performance change?"
      ]
    },
    {
      "cell_type": "code",
      "metadata": {
        "id": "EDk9LExtb_UM",
        "colab_type": "code",
        "colab": {}
      },
      "source": [
        "from sklearn.ensemble import RandomForestClassifier\n",
        "from sklearn.svm import SVC\n",
        "from sklearn.naive_bayes import GaussianNB\n",
        "\n",
        "for mod in [RandomForestClassifier(), SVC(), GaussianNB()]:\n",
        "    mod.fit(X_train, y_train[:, 1])\n",
        "    y_pred = mod.predict(X_test)\n",
        "    print(\"=\"*80)\n",
        "    print(mod)\n",
        "    print(\"-\"*80)\n",
        "    print(\"Accuracy score: {:0.3}\".format(accuracy_score(y_test_class,\n",
        "                                                         y_pred)))\n",
        "    print(\"Confusion Matrix:\")\n",
        "    print(confusion_matrix(y_test_class, y_pred))\n",
        "    print()"
      ],
      "execution_count": 0,
      "outputs": []
    },
    {
      "cell_type": "markdown",
      "metadata": {
        "id": "1AZQgYFKb_UR",
        "colab_type": "text"
      },
      "source": [
        "## Exercise 4\n",
        "\n",
        "[Tensorflow playground](http://playground.tensorflow.org/) is a web based neural network demo. It is really useful to develop an intuition about what happens when you change architecture, activation function or other parameters. Try playing with it for a few minutes. You don't nee do understand the meaning of every knob and button in the page, just get a sense for what happens if you change something. In the next chapter we'll explore these things in more detail.\n"
      ]
    }
  ]
}